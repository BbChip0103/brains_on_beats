{
 "cells": [
  {
   "cell_type": "markdown",
   "metadata": {
    "colab_type": "text",
    "id": "-fWomgC-kF5f"
   },
   "source": [
    "**Architecture **\n",
    "\n",
    "<img src=\"http://drive.google.com/uc?export=view&id=12JomC2IswVbNGdE0IIvPpUk8vPjP-MBQ\"  alt=\"artchtecture\">\n",
    "\n",
    "\n",
    "---\n",
    "\n"
   ]
  },
  {
   "cell_type": "markdown",
   "metadata": {
    "colab_type": "text",
    "id": "uN7hQRZsDbgI"
   },
   "source": [
    "(1) Importing dependency"
   ]
  },
  {
   "cell_type": "code",
   "execution_count": 1,
   "metadata": {
    "colab": {
     "base_uri": "https://localhost:8080/",
     "height": 34
    },
    "colab_type": "code",
    "id": "3lPxjI5BDAkX",
    "outputId": "88280284-3c51-485b-adfa-4c428507fb92"
   },
   "outputs": [
    {
     "name": "stderr",
     "output_type": "stream",
     "text": [
      "Using TensorFlow backend.\n"
     ]
    }
   ],
   "source": [
    "import keras\n",
    "from keras.models import Sequential, load_model\n",
    "from keras.layers import Dense, Activation, Dropout, Flatten,\\\n",
    "                         Conv1D, MaxPooling1D\n",
    "from keras.layers.normalization import BatchNormalization\n",
    "from keras.callbacks import ModelCheckpoint\n",
    "\n",
    "import pandas as pd\n",
    "import librosa\n",
    "from tqdm import tqdm_notebook as tqdm\n",
    "import os\n",
    "\n",
    "import numpy as np\n",
    "np.random.seed(13)\n",
    "import random\n",
    "random.seed(13)\n",
    "\n",
    "import matplotlib.pyplot as plt\n",
    "% matplotlib inline"
   ]
  },
  {
   "cell_type": "markdown",
   "metadata": {
    "colab_type": "text",
    "id": "py5KMVLnDZsC"
   },
   "source": [
    "(2) Get Data"
   ]
  },
  {
   "cell_type": "code",
   "execution_count": 2,
   "metadata": {},
   "outputs": [],
   "source": [
    "base_data_path = '/data/private/SU/bbchip13/brains_on_beats/magnatagatune/'\n",
    "\n",
    "### Make Y data\n",
    "annotations_filename = base_data_path+'annotations_final_top_50_ver_1.csv'\n",
    "df = pd.read_csv(annotations_filename)\n",
    "y_names = df.columns[2:]\n",
    "y_dict = {info[1][0]:info[1][2:].values.astype(np.int32) for info in df.iterrows()}\n",
    "# y_dict"
   ]
  },
  {
   "cell_type": "code",
   "execution_count": 3,
   "metadata": {},
   "outputs": [],
   "source": [
    "base_wav_path = base_data_path+'split_wav/'\n",
    "train_dir = base_wav_path+'train/'\n",
    "val_dir = base_wav_path+'val/'\n",
    "test_dir = base_wav_path+'test/'"
   ]
  },
  {
   "cell_type": "code",
   "execution_count": 4,
   "metadata": {},
   "outputs": [],
   "source": [
    "def crop_random_5sec(filename):\n",
    "    crop_range = 24\n",
    "    offset = np.random.randint(crop_range)\n",
    "    wav_5sec, sr = librosa.load(filename, offset=offset, duration=6, sr=16000)\n",
    "    wav_5sec = np.expand_dims(wav_5sec, axis=1)\n",
    "    return wav_5sec\n",
    "\n",
    "def load_wavs_and_crop(filenames):\n",
    "    return np.asarray([crop_random_5sec(filename) for filename in tqdm(filenames)])\n",
    "    \n",
    "def find_y_by_filename(filename, y_dict):\n",
    "    basename = os.path.basename(filename)\n",
    "    name = os.path.splitext(basename)[0]\n",
    "    y = y_dict[int(name)]\n",
    "    return y\n",
    "\n",
    "def make_y_by_filenames(filenames, y_dict):\n",
    "    return np.asarray([find_y_by_filename(filename, y_dict) \n",
    "                           for filename in filenames])\n",
    "\n",
    "def make_train_data(filenames, y_dict):\n",
    "    x_train = load_wavs_and_crop(filenames)\n",
    "    y_train = make_y_by_filenames(filenames, y_dict)\n",
    "    return x_train, y_train"
   ]
  },
  {
   "cell_type": "code",
   "execution_count": 4,
   "metadata": {
    "colab": {
     "base_uri": "https://localhost:8080/",
     "height": 34
    },
    "colab_type": "code",
    "id": "bWFB1X_4DWyK",
    "outputId": "4882f32e-10cd-4400-db3b-c5c0cae5f263"
   },
   "outputs": [
    {
     "name": "stdout",
     "output_type": "stream",
     "text": [
      "Make train data.......\n"
     ]
    },
    {
     "data": {
      "application/vnd.jupyter.widget-view+json": {
       "model_id": "d9247be85f28436897a3a3d5af3a82e4",
       "version_major": 2,
       "version_minor": 0
      },
      "text/plain": [
       "HBox(children=(IntProgress(value=0, max=18706), HTML(value='')))"
      ]
     },
     "metadata": {},
     "output_type": "display_data"
    },
    {
     "name": "stdout",
     "output_type": "stream",
     "text": [
      "\n",
      "Make validation data.......\n"
     ]
    },
    {
     "data": {
      "application/vnd.jupyter.widget-view+json": {
       "model_id": "45fb042f16134cad8fb1098772b7e1b2",
       "version_major": 2,
       "version_minor": 0
      },
      "text/plain": [
       "HBox(children=(IntProgress(value=0, max=1825), HTML(value='')))"
      ]
     },
     "metadata": {},
     "output_type": "display_data"
    },
    {
     "name": "stdout",
     "output_type": "stream",
     "text": [
      "\n",
      "(18706, 96000, 1) (18706, 50) (1825, 96000, 1) (1825, 50)\n"
     ]
    }
   ],
   "source": [
    "print('Make train data.......')\n",
    "x_train_wav_filenames = [train_dir+filename for filename in os.listdir(train_dir)\n",
    "                            if filename.endswith('.wav')]#[:1000]\n",
    "x_train, y_train = make_train_data(x_train_wav_filenames, y_dict)\n",
    "\n",
    "print('Make validation data.......')\n",
    "x_val_wav_filenames = [val_dir+filename for filename in os.listdir(val_dir)\n",
    "                            if filename.endswith('.wav')]#[:200]\n",
    "x_val, y_val = make_train_data(x_val_wav_filenames, y_dict)\n",
    "\n",
    "print(x_train.shape, y_train.shape, x_val.shape, y_val.shape)"
   ]
  },
  {
   "cell_type": "markdown",
   "metadata": {
    "colab_type": "text",
    "id": "12cS85jvDnfS"
   },
   "source": [
    "(3) Create a sequential model"
   ]
  },
  {
   "cell_type": "code",
   "execution_count": 5,
   "metadata": {
    "colab": {},
    "colab_type": "code",
    "id": "4GDedqMJcJYr"
   },
   "outputs": [],
   "source": [
    "### Define Parametric Softplus\n",
    "\n",
    "# alpha * log(1 + exp(beta * x))\n",
    "def ParametricSoftplus(alpha=0.2, beta=5.0):\n",
    "  return lambda x: alpha * keras.activations.softplus(beta * x)"
   ]
  },
  {
   "cell_type": "code",
   "execution_count": 6,
   "metadata": {
    "colab": {
     "base_uri": "https://localhost:8080/",
     "height": 985
    },
    "colab_type": "code",
    "id": "fs8Heys2Dm30",
    "outputId": "bad14ede-be9c-4a2f-d052-9d9a29a5e437"
   },
   "outputs": [
    {
     "name": "stdout",
     "output_type": "stream",
     "text": [
      "_________________________________________________________________\n",
      "Layer (type)                 Output Shape              Param #   \n",
      "=================================================================\n",
      "conv1d_1 (Conv1D)            (None, 6000, 48)          5856      \n",
      "_________________________________________________________________\n",
      "activation_1 (Activation)    (None, 6000, 48)          0         \n",
      "_________________________________________________________________\n",
      "batch_normalization_1 (Batch (None, 6000, 48)          192       \n",
      "_________________________________________________________________\n",
      "max_pooling1d_1 (MaxPooling1 (None, 1500, 48)          0         \n",
      "_________________________________________________________________\n",
      "conv1d_2 (Conv1D)            (None, 1500, 128)         153728    \n",
      "_________________________________________________________________\n",
      "activation_2 (Activation)    (None, 1500, 128)         0         \n",
      "_________________________________________________________________\n",
      "batch_normalization_2 (Batch (None, 1500, 128)         512       \n",
      "_________________________________________________________________\n",
      "max_pooling1d_2 (MaxPooling1 (None, 375, 128)          0         \n",
      "_________________________________________________________________\n",
      "conv1d_3 (Conv1D)            (None, 375, 192)          221376    \n",
      "_________________________________________________________________\n",
      "activation_3 (Activation)    (None, 375, 192)          0         \n",
      "_________________________________________________________________\n",
      "conv1d_4 (Conv1D)            (None, 375, 192)          331968    \n",
      "_________________________________________________________________\n",
      "activation_4 (Activation)    (None, 375, 192)          0         \n",
      "_________________________________________________________________\n",
      "conv1d_5 (Conv1D)            (None, 375, 128)          221312    \n",
      "_________________________________________________________________\n",
      "activation_5 (Activation)    (None, 375, 128)          0         \n",
      "_________________________________________________________________\n",
      "max_pooling1d_3 (MaxPooling1 (None, 94, 128)           0         \n",
      "_________________________________________________________________\n",
      "flatten_1 (Flatten)          (None, 12032)             0         \n",
      "_________________________________________________________________\n",
      "dense_1 (Dense)              (None, 4096)              49287168  \n",
      "_________________________________________________________________\n",
      "activation_6 (Activation)    (None, 4096)              0         \n",
      "_________________________________________________________________\n",
      "dropout_1 (Dropout)          (None, 4096)              0         \n",
      "_________________________________________________________________\n",
      "dense_2 (Dense)              (None, 4096)              16781312  \n",
      "_________________________________________________________________\n",
      "activation_7 (Activation)    (None, 4096)              0         \n",
      "_________________________________________________________________\n",
      "dropout_2 (Dropout)          (None, 4096)              0         \n",
      "_________________________________________________________________\n",
      "dense_3 (Dense)              (None, 50)                204850    \n",
      "_________________________________________________________________\n",
      "activation_8 (Activation)    (None, 50)                0         \n",
      "=================================================================\n",
      "Total params: 67,208,274\n",
      "Trainable params: 67,207,922\n",
      "Non-trainable params: 352\n",
      "_________________________________________________________________\n"
     ]
    }
   ],
   "source": [
    "model=Sequential()\n",
    "\n",
    "# 1st Convolutional Layer (conv1)\n",
    "model.add(Conv1D (kernel_size=121, filters=48, strides=16, padding='same',\n",
    "#                   input_shape=x_train.shape[1:]))                  \n",
    "                  input_shape=(96000, 1)))\n",
    "\n",
    "model.add(Activation(ParametricSoftplus(alpha=0.2, beta=0.5)))\n",
    "model.add(BatchNormalization())\n",
    "\n",
    "# Pooling (pool1)\n",
    "model.add(MaxPooling1D(pool_size=9, strides=4, padding='same'))\n",
    "\n",
    "# 2nd Convolutional Layer (conv2)\n",
    "model.add(Conv1D (kernel_size=25, filters=128, padding='same'))\n",
    "model.add(Activation(ParametricSoftplus(alpha=0.2, beta=0.5)))\n",
    "model.add(BatchNormalization())\n",
    "\n",
    "# Pooling (pool2)\n",
    "model.add(MaxPooling1D(pool_size=9, strides=4, padding='same'))\n",
    "\n",
    "# 3rd Convolutional Layer (conv3)\n",
    "model.add(Conv1D (kernel_size=9, filters=192, padding='same'))\n",
    "model.add(Activation(ParametricSoftplus(alpha=0.2, beta=0.5)))\n",
    "\n",
    "# 4rd Convolutional Layer (conv4)\n",
    "model.add(Conv1D (kernel_size=9, filters=192, padding='same'))\n",
    "model.add(Activation(ParametricSoftplus(alpha=0.2, beta=0.5)))\n",
    "\n",
    "# 5rd Convolutional Layer (conv5)\n",
    "model.add(Conv1D (kernel_size=9, filters=128, padding='same'))\n",
    "model.add(Activation(ParametricSoftplus(alpha=0.2, beta=0.5)))\n",
    "\n",
    "# Pooling (pool5)\n",
    "model.add(MaxPooling1D(pool_size=9, strides=4, padding='same'))\n",
    "\n",
    "# 1st Dense Layer (full6)\n",
    "model.add(Flatten())\n",
    "model.add(Dense(4096))\n",
    "model.add(Activation(ParametricSoftplus(alpha=0.2, beta=0.5)))\n",
    "model.add(Dropout(0.5)) # Drop-out value is not specified in the paper\n",
    "\n",
    "# 2nd Dense Layer (full7)\n",
    "model.add(Dense(4096))\n",
    "model.add(Activation(ParametricSoftplus(alpha=0.2, beta=0.5)))\n",
    "model.add(Dropout(0.5))\n",
    "\n",
    "# Output Layer (full8)\n",
    "model.add(Dense(50))\n",
    "model.add(Activation('sigmoid'))\n",
    "\n",
    "model.summary()"
   ]
  },
  {
   "cell_type": "markdown",
   "metadata": {
    "colab_type": "text",
    "id": "RLxfqHNxDuJq"
   },
   "source": [
    "(4) Compile "
   ]
  },
  {
   "cell_type": "code",
   "execution_count": 7,
   "metadata": {
    "colab": {},
    "colab_type": "code",
    "id": "5jPB8IbZDxeJ"
   },
   "outputs": [],
   "source": [
    "adam_with_params = keras.optimizers.Adam(lr=0.0002, beta_1=0.1, beta_2=0.999, \n",
    "                                         epsilon=1e-8)\n",
    "model.compile(loss='binary_crossentropy', optimizer=adam_with_params,\n",
    "              metrics=['accuracy'])"
   ]
  },
  {
   "cell_type": "markdown",
   "metadata": {
    "colab_type": "text",
    "id": "VUsuRj-7Dzxx"
   },
   "source": [
    "(5) Train"
   ]
  },
  {
   "cell_type": "code",
   "execution_count": 8,
   "metadata": {},
   "outputs": [],
   "source": [
    "model_path = 'check_point/'\n",
    "os.makedirs(model_path, exist_ok=True)\n",
    "model_filename = model_path+'{epoch:02d}-{val_loss:.4f}.hdf5'\n",
    "checkpointer = ModelCheckpoint(filepath = model_filename, monitor = \"val_loss\", verbose=1, save_best_only=True)"
   ]
  },
  {
   "cell_type": "code",
   "execution_count": 8,
   "metadata": {
    "colab": {
     "base_uri": "https://localhost:8080/",
     "height": 404
    },
    "colab_type": "code",
    "id": "ZUVV71K2D2tZ",
    "outputId": "7a454152-003e-4615-acd8-cfdb60ef8170",
    "scrolled": true
   },
   "outputs": [
    {
     "name": "stdout",
     "output_type": "stream",
     "text": [
      "Train on 18706 samples, validate on 1825 samples\n",
      "Epoch 1/100\n",
      "18706/18706 [==============================] - 60s 3ms/step - loss: 0.2057 - acc: 0.9446 - val_loss: 0.1946 - val_acc: 0.9446\n",
      "\n",
      "Epoch 00001: val_loss improved from inf to 0.19460, saving model to check_point/01-0.1946.hdf5\n",
      "Epoch 2/100\n",
      "18706/18706 [==============================] - 53s 3ms/step - loss: 0.1858 - acc: 0.9459 - val_loss: 0.1820 - val_acc: 0.9446\n",
      "\n",
      "Epoch 00002: val_loss improved from 0.19460 to 0.18203, saving model to check_point/02-0.1820.hdf5\n",
      "Epoch 3/100\n",
      "18706/18706 [==============================] - 53s 3ms/step - loss: 0.1826 - acc: 0.9458 - val_loss: 0.1824 - val_acc: 0.9430\n",
      "\n",
      "Epoch 00003: val_loss did not improve from 0.18203\n",
      "Epoch 4/100\n",
      "18706/18706 [==============================] - 53s 3ms/step - loss: 0.1817 - acc: 0.9459 - val_loss: 0.1821 - val_acc: 0.9446\n",
      "\n",
      "Epoch 00004: val_loss did not improve from 0.18203\n",
      "Epoch 5/100\n",
      "18706/18706 [==============================] - 54s 3ms/step - loss: 0.1807 - acc: 0.9459 - val_loss: 0.1818 - val_acc: 0.9441\n",
      "\n",
      "Epoch 00005: val_loss improved from 0.18203 to 0.18179, saving model to check_point/05-0.1818.hdf5\n",
      "Epoch 6/100\n",
      "18706/18706 [==============================] - 54s 3ms/step - loss: 0.1802 - acc: 0.9460 - val_loss: 0.1786 - val_acc: 0.9450\n",
      "\n",
      "Epoch 00006: val_loss improved from 0.18179 to 0.17857, saving model to check_point/06-0.1786.hdf5\n",
      "Epoch 7/100\n",
      "18706/18706 [==============================] - 54s 3ms/step - loss: 0.1780 - acc: 0.9460 - val_loss: 0.1790 - val_acc: 0.9452\n",
      "\n",
      "Epoch 00007: val_loss did not improve from 0.17857\n",
      "Epoch 8/100\n",
      "18706/18706 [==============================] - 54s 3ms/step - loss: 0.1758 - acc: 0.9463 - val_loss: 0.1770 - val_acc: 0.9454\n",
      "\n",
      "Epoch 00008: val_loss improved from 0.17857 to 0.17705, saving model to check_point/08-0.1770.hdf5\n",
      "Epoch 9/100\n",
      "18706/18706 [==============================] - 54s 3ms/step - loss: 0.1746 - acc: 0.9463 - val_loss: 0.1735 - val_acc: 0.9448\n",
      "\n",
      "Epoch 00009: val_loss improved from 0.17705 to 0.17350, saving model to check_point/09-0.1735.hdf5\n",
      "Epoch 10/100\n",
      "18706/18706 [==============================] - 54s 3ms/step - loss: 0.1739 - acc: 0.9464 - val_loss: 0.1716 - val_acc: 0.9458\n",
      "\n",
      "Epoch 00010: val_loss improved from 0.17350 to 0.17157, saving model to check_point/10-0.1716.hdf5\n",
      "Epoch 11/100\n",
      "18706/18706 [==============================] - 54s 3ms/step - loss: 0.1730 - acc: 0.9465 - val_loss: 0.1717 - val_acc: 0.9459\n",
      "\n",
      "Epoch 00011: val_loss did not improve from 0.17157\n",
      "Epoch 12/100\n",
      "18706/18706 [==============================] - 54s 3ms/step - loss: 0.1719 - acc: 0.9466 - val_loss: 0.1733 - val_acc: 0.9456\n",
      "\n",
      "Epoch 00012: val_loss did not improve from 0.17157\n",
      "Epoch 13/100\n",
      "18706/18706 [==============================] - 54s 3ms/step - loss: 0.1708 - acc: 0.9467 - val_loss: 0.1712 - val_acc: 0.9448\n",
      "\n",
      "Epoch 00013: val_loss improved from 0.17157 to 0.17122, saving model to check_point/13-0.1712.hdf5\n",
      "Epoch 14/100\n",
      "18706/18706 [==============================] - 54s 3ms/step - loss: 0.1700 - acc: 0.9466 - val_loss: 0.1688 - val_acc: 0.9457\n",
      "\n",
      "Epoch 00014: val_loss improved from 0.17122 to 0.16883, saving model to check_point/14-0.1688.hdf5\n",
      "Epoch 15/100\n",
      "18706/18706 [==============================] - 54s 3ms/step - loss: 0.1694 - acc: 0.9467 - val_loss: 0.1719 - val_acc: 0.9455\n",
      "\n",
      "Epoch 00015: val_loss did not improve from 0.16883\n",
      "Epoch 16/100\n",
      "18706/18706 [==============================] - 54s 3ms/step - loss: 0.1687 - acc: 0.9467 - val_loss: 0.1690 - val_acc: 0.9462\n",
      "\n",
      "Epoch 00016: val_loss did not improve from 0.16883\n",
      "Epoch 17/100\n",
      "18706/18706 [==============================] - 54s 3ms/step - loss: 0.1678 - acc: 0.9468 - val_loss: 0.1662 - val_acc: 0.9461\n",
      "\n",
      "Epoch 00017: val_loss improved from 0.16883 to 0.16620, saving model to check_point/17-0.1662.hdf5\n",
      "Epoch 18/100\n",
      "18706/18706 [==============================] - 54s 3ms/step - loss: 0.1669 - acc: 0.9469 - val_loss: 0.1673 - val_acc: 0.9460\n",
      "\n",
      "Epoch 00018: val_loss did not improve from 0.16620\n",
      "Epoch 19/100\n",
      "18706/18706 [==============================] - 54s 3ms/step - loss: 0.1659 - acc: 0.9468 - val_loss: 0.1669 - val_acc: 0.9461\n",
      "\n",
      "Epoch 00019: val_loss did not improve from 0.16620\n",
      "Epoch 20/100\n",
      "18706/18706 [==============================] - 54s 3ms/step - loss: 0.1646 - acc: 0.9469 - val_loss: 0.1657 - val_acc: 0.9459\n",
      "\n",
      "Epoch 00020: val_loss improved from 0.16620 to 0.16573, saving model to check_point/20-0.1657.hdf5\n",
      "Epoch 21/100\n",
      "18706/18706 [==============================] - 54s 3ms/step - loss: 0.1633 - acc: 0.9471 - val_loss: 0.1639 - val_acc: 0.9461\n",
      "\n",
      "Epoch 00021: val_loss improved from 0.16573 to 0.16390, saving model to check_point/21-0.1639.hdf5\n",
      "Epoch 22/100\n",
      "18706/18706 [==============================] - 54s 3ms/step - loss: 0.1617 - acc: 0.9474 - val_loss: 0.1633 - val_acc: 0.9470\n",
      "\n",
      "Epoch 00022: val_loss improved from 0.16390 to 0.16331, saving model to check_point/22-0.1633.hdf5\n",
      "Epoch 23/100\n",
      "18706/18706 [==============================] - 54s 3ms/step - loss: 0.1593 - acc: 0.9476 - val_loss: 0.1642 - val_acc: 0.9468\n",
      "\n",
      "Epoch 00023: val_loss did not improve from 0.16331\n",
      "Epoch 24/100\n",
      "18706/18706 [==============================] - 54s 3ms/step - loss: 0.1578 - acc: 0.9478 - val_loss: 0.1627 - val_acc: 0.9474\n",
      "\n",
      "Epoch 00024: val_loss improved from 0.16331 to 0.16275, saving model to check_point/24-0.1627.hdf5\n",
      "Epoch 25/100\n",
      "18706/18706 [==============================] - 54s 3ms/step - loss: 0.1562 - acc: 0.9479 - val_loss: 0.1599 - val_acc: 0.9472\n",
      "\n",
      "Epoch 00025: val_loss improved from 0.16275 to 0.15987, saving model to check_point/25-0.1599.hdf5\n",
      "Epoch 26/100\n",
      "18706/18706 [==============================] - 54s 3ms/step - loss: 0.1542 - acc: 0.9481 - val_loss: 0.1592 - val_acc: 0.9482\n",
      "\n",
      "Epoch 00026: val_loss improved from 0.15987 to 0.15915, saving model to check_point/26-0.1592.hdf5\n",
      "Epoch 27/100\n",
      "18706/18706 [==============================] - 54s 3ms/step - loss: 0.1524 - acc: 0.9484 - val_loss: 0.1587 - val_acc: 0.9478\n",
      "\n",
      "Epoch 00027: val_loss improved from 0.15915 to 0.15866, saving model to check_point/27-0.1587.hdf5\n",
      "Epoch 28/100\n",
      "18706/18706 [==============================] - 54s 3ms/step - loss: 0.1505 - acc: 0.9488 - val_loss: 0.1572 - val_acc: 0.9481\n",
      "\n",
      "Epoch 00028: val_loss improved from 0.15866 to 0.15718, saving model to check_point/28-0.1572.hdf5\n",
      "Epoch 29/100\n",
      "18706/18706 [==============================] - 54s 3ms/step - loss: 0.1481 - acc: 0.9491 - val_loss: 0.1606 - val_acc: 0.9477\n",
      "\n",
      "Epoch 00029: val_loss did not improve from 0.15718\n",
      "Epoch 30/100\n",
      "18706/18706 [==============================] - 54s 3ms/step - loss: 0.1459 - acc: 0.9493 - val_loss: 0.1622 - val_acc: 0.9475\n",
      "\n",
      "Epoch 00030: val_loss did not improve from 0.15718\n",
      "Epoch 31/100\n",
      "18706/18706 [==============================] - 54s 3ms/step - loss: 0.1430 - acc: 0.9499 - val_loss: 0.1595 - val_acc: 0.9481\n",
      "\n",
      "Epoch 00031: val_loss did not improve from 0.15718\n",
      "Epoch 32/100\n",
      "18706/18706 [==============================] - 54s 3ms/step - loss: 0.1399 - acc: 0.9504 - val_loss: 0.1609 - val_acc: 0.9472\n",
      "\n",
      "Epoch 00032: val_loss did not improve from 0.15718\n",
      "Epoch 33/100\n",
      "18706/18706 [==============================] - 54s 3ms/step - loss: 0.1362 - acc: 0.9512 - val_loss: 0.1603 - val_acc: 0.9470\n",
      "\n",
      "Epoch 00033: val_loss did not improve from 0.15718\n",
      "Epoch 34/100\n",
      "18706/18706 [==============================] - 54s 3ms/step - loss: 0.1324 - acc: 0.9523 - val_loss: 0.1755 - val_acc: 0.9447\n",
      "\n",
      "Epoch 00034: val_loss did not improve from 0.15718\n",
      "Epoch 35/100\n",
      "18706/18706 [==============================] - 54s 3ms/step - loss: 0.1279 - acc: 0.9534 - val_loss: 0.1707 - val_acc: 0.9459\n",
      "\n",
      "Epoch 00035: val_loss did not improve from 0.15718\n",
      "Epoch 36/100\n",
      "18706/18706 [==============================] - 54s 3ms/step - loss: 0.1230 - acc: 0.9546 - val_loss: 0.1695 - val_acc: 0.9468\n",
      "\n",
      "Epoch 00036: val_loss did not improve from 0.15718\n",
      "Epoch 37/100\n",
      "18706/18706 [==============================] - 54s 3ms/step - loss: 0.1183 - acc: 0.9559 - val_loss: 0.1788 - val_acc: 0.9445\n",
      "\n",
      "Epoch 00037: val_loss did not improve from 0.15718\n",
      "Epoch 38/100\n",
      "18706/18706 [==============================] - 54s 3ms/step - loss: 0.1131 - acc: 0.9576 - val_loss: 0.1814 - val_acc: 0.9427\n",
      "\n",
      "Epoch 00038: val_loss did not improve from 0.15718\n",
      "Epoch 39/100\n"
     ]
    },
    {
     "name": "stdout",
     "output_type": "stream",
     "text": [
      "18706/18706 [==============================] - 54s 3ms/step - loss: 0.1082 - acc: 0.9592 - val_loss: 0.1823 - val_acc: 0.9445\n",
      "\n",
      "Epoch 00039: val_loss did not improve from 0.15718\n",
      "Epoch 40/100\n",
      "18706/18706 [==============================] - 54s 3ms/step - loss: 0.1029 - acc: 0.9610 - val_loss: 0.1837 - val_acc: 0.9451\n",
      "\n",
      "Epoch 00040: val_loss did not improve from 0.15718\n",
      "Epoch 41/100\n",
      "18706/18706 [==============================] - 54s 3ms/step - loss: 0.0980 - acc: 0.9628 - val_loss: 0.1918 - val_acc: 0.9439\n",
      "\n",
      "Epoch 00041: val_loss did not improve from 0.15718\n",
      "Epoch 42/100\n",
      "18706/18706 [==============================] - 54s 3ms/step - loss: 0.0927 - acc: 0.9644 - val_loss: 0.1971 - val_acc: 0.9425\n",
      "\n",
      "Epoch 00042: val_loss did not improve from 0.15718\n",
      "Epoch 43/100\n",
      "18706/18706 [==============================] - 54s 3ms/step - loss: 0.0878 - acc: 0.9662 - val_loss: 0.2012 - val_acc: 0.9426\n",
      "\n",
      "Epoch 00043: val_loss did not improve from 0.15718\n",
      "Epoch 44/100\n",
      "18706/18706 [==============================] - 54s 3ms/step - loss: 0.0824 - acc: 0.9683 - val_loss: 0.2074 - val_acc: 0.9430\n",
      "\n",
      "Epoch 00044: val_loss did not improve from 0.15718\n",
      "Epoch 45/100\n",
      "18706/18706 [==============================] - 54s 3ms/step - loss: 0.0776 - acc: 0.9699 - val_loss: 0.2099 - val_acc: 0.9418\n",
      "\n",
      "Epoch 00045: val_loss did not improve from 0.15718\n",
      "Epoch 46/100\n",
      "18706/18706 [==============================] - 54s 3ms/step - loss: 0.0730 - acc: 0.9715 - val_loss: 0.2184 - val_acc: 0.9407\n",
      "\n",
      "Epoch 00046: val_loss did not improve from 0.15718\n",
      "Epoch 47/100\n",
      "18706/18706 [==============================] - 54s 3ms/step - loss: 0.0687 - acc: 0.9731 - val_loss: 0.2228 - val_acc: 0.9405\n",
      "\n",
      "Epoch 00047: val_loss did not improve from 0.15718\n",
      "Epoch 48/100\n",
      "18706/18706 [==============================] - 54s 3ms/step - loss: 0.0640 - acc: 0.9751 - val_loss: 0.2346 - val_acc: 0.9409\n",
      "\n",
      "Epoch 00048: val_loss did not improve from 0.15718\n",
      "Epoch 49/100\n",
      "18706/18706 [==============================] - 54s 3ms/step - loss: 0.0596 - acc: 0.9768 - val_loss: 0.2320 - val_acc: 0.9410\n",
      "\n",
      "Epoch 00049: val_loss did not improve from 0.15718\n",
      "Epoch 50/100\n",
      "18706/18706 [==============================] - 54s 3ms/step - loss: 0.0565 - acc: 0.9781 - val_loss: 0.2336 - val_acc: 0.9398\n",
      "\n",
      "Epoch 00050: val_loss did not improve from 0.15718\n",
      "Epoch 51/100\n",
      "18706/18706 [==============================] - 54s 3ms/step - loss: 0.0531 - acc: 0.9795 - val_loss: 0.2472 - val_acc: 0.9402\n",
      "\n",
      "Epoch 00051: val_loss did not improve from 0.15718\n",
      "Epoch 52/100\n",
      "18706/18706 [==============================] - 54s 3ms/step - loss: 0.0495 - acc: 0.9808 - val_loss: 0.2584 - val_acc: 0.9395\n",
      "\n",
      "Epoch 00052: val_loss did not improve from 0.15718\n",
      "Epoch 53/100\n",
      "18706/18706 [==============================] - 54s 3ms/step - loss: 0.0463 - acc: 0.9821 - val_loss: 0.2655 - val_acc: 0.9397\n",
      "\n",
      "Epoch 00053: val_loss did not improve from 0.15718\n",
      "Epoch 54/100\n",
      "18706/18706 [==============================] - 54s 3ms/step - loss: 0.0435 - acc: 0.9833 - val_loss: 0.2678 - val_acc: 0.9391\n",
      "\n",
      "Epoch 00054: val_loss did not improve from 0.15718\n",
      "Epoch 55/100\n",
      "18706/18706 [==============================] - 54s 3ms/step - loss: 0.0411 - acc: 0.9842 - val_loss: 0.2758 - val_acc: 0.9393\n",
      "\n",
      "Epoch 00055: val_loss did not improve from 0.15718\n",
      "Epoch 56/100\n",
      "18706/18706 [==============================] - 54s 3ms/step - loss: 0.0385 - acc: 0.9853 - val_loss: 0.2762 - val_acc: 0.9402\n",
      "\n",
      "Epoch 00056: val_loss did not improve from 0.15718\n",
      "Epoch 57/100\n",
      "18706/18706 [==============================] - 54s 3ms/step - loss: 0.0364 - acc: 0.9861 - val_loss: 0.2769 - val_acc: 0.9390\n",
      "\n",
      "Epoch 00057: val_loss did not improve from 0.15718\n",
      "Epoch 58/100\n",
      "18706/18706 [==============================] - 54s 3ms/step - loss: 0.0344 - acc: 0.9868 - val_loss: 0.2817 - val_acc: 0.9405\n",
      "\n",
      "Epoch 00058: val_loss did not improve from 0.15718\n",
      "Epoch 59/100\n",
      "18706/18706 [==============================] - 54s 3ms/step - loss: 0.0324 - acc: 0.9877 - val_loss: 0.2876 - val_acc: 0.9396\n",
      "\n",
      "Epoch 00059: val_loss did not improve from 0.15718\n",
      "Epoch 60/100\n",
      "18706/18706 [==============================] - 54s 3ms/step - loss: 0.0307 - acc: 0.9884 - val_loss: 0.2875 - val_acc: 0.9384\n",
      "\n",
      "Epoch 00060: val_loss did not improve from 0.15718\n",
      "Epoch 61/100\n",
      "18706/18706 [==============================] - 54s 3ms/step - loss: 0.0293 - acc: 0.9890 - val_loss: 0.2892 - val_acc: 0.9380\n",
      "\n",
      "Epoch 00061: val_loss did not improve from 0.15718\n",
      "Epoch 62/100\n",
      "18706/18706 [==============================] - 54s 3ms/step - loss: 0.0272 - acc: 0.9899 - val_loss: 0.2892 - val_acc: 0.9391\n",
      "\n",
      "Epoch 00062: val_loss did not improve from 0.15718\n",
      "Epoch 63/100\n",
      "18706/18706 [==============================] - 54s 3ms/step - loss: 0.0262 - acc: 0.9903 - val_loss: 0.3026 - val_acc: 0.9386\n",
      "\n",
      "Epoch 00063: val_loss did not improve from 0.15718\n",
      "Epoch 64/100\n",
      "18706/18706 [==============================] - 54s 3ms/step - loss: 0.0249 - acc: 0.9909 - val_loss: 0.3081 - val_acc: 0.9384\n",
      "\n",
      "Epoch 00064: val_loss did not improve from 0.15718\n",
      "Epoch 65/100\n",
      "18706/18706 [==============================] - 54s 3ms/step - loss: 0.0241 - acc: 0.9911 - val_loss: 0.3050 - val_acc: 0.9394\n",
      "\n",
      "Epoch 00065: val_loss did not improve from 0.15718\n",
      "Epoch 66/100\n",
      "18706/18706 [==============================] - 54s 3ms/step - loss: 0.0228 - acc: 0.9915 - val_loss: 0.3112 - val_acc: 0.9377\n",
      "\n",
      "Epoch 00066: val_loss did not improve from 0.15718\n",
      "Epoch 67/100\n",
      "18706/18706 [==============================] - 54s 3ms/step - loss: 0.0218 - acc: 0.9921 - val_loss: 0.3072 - val_acc: 0.9390\n",
      "\n",
      "Epoch 00067: val_loss did not improve from 0.15718\n",
      "Epoch 68/100\n",
      "18706/18706 [==============================] - 54s 3ms/step - loss: 0.0211 - acc: 0.9923 - val_loss: 0.3287 - val_acc: 0.9394\n",
      "\n",
      "Epoch 00068: val_loss did not improve from 0.15718\n",
      "Epoch 69/100\n",
      "18706/18706 [==============================] - 54s 3ms/step - loss: 0.0202 - acc: 0.9928 - val_loss: 0.3234 - val_acc: 0.9385\n",
      "\n",
      "Epoch 00069: val_loss did not improve from 0.15718\n",
      "Epoch 70/100\n",
      "18706/18706 [==============================] - 54s 3ms/step - loss: 0.0195 - acc: 0.9929 - val_loss: 0.3121 - val_acc: 0.9382\n",
      "\n",
      "Epoch 00070: val_loss did not improve from 0.15718\n",
      "Epoch 71/100\n",
      "18706/18706 [==============================] - 54s 3ms/step - loss: 0.0183 - acc: 0.9933 - val_loss: 0.3290 - val_acc: 0.9380\n",
      "\n",
      "Epoch 00071: val_loss did not improve from 0.15718\n",
      "Epoch 72/100\n",
      "18706/18706 [==============================] - 54s 3ms/step - loss: 0.0177 - acc: 0.9937 - val_loss: 0.3345 - val_acc: 0.9388\n",
      "\n",
      "Epoch 00072: val_loss did not improve from 0.15718\n",
      "Epoch 73/100\n",
      "18706/18706 [==============================] - 54s 3ms/step - loss: 0.0173 - acc: 0.9938 - val_loss: 0.3283 - val_acc: 0.9390\n",
      "\n",
      "Epoch 00073: val_loss did not improve from 0.15718\n",
      "Epoch 74/100\n",
      "18706/18706 [==============================] - 54s 3ms/step - loss: 0.0165 - acc: 0.9940 - val_loss: 0.3260 - val_acc: 0.9391\n",
      "\n",
      "Epoch 00074: val_loss did not improve from 0.15718\n",
      "Epoch 75/100\n",
      "18706/18706 [==============================] - 54s 3ms/step - loss: 0.0163 - acc: 0.9943 - val_loss: 0.3244 - val_acc: 0.9397\n",
      "\n",
      "Epoch 00075: val_loss did not improve from 0.15718\n",
      "Epoch 76/100\n",
      "18706/18706 [==============================] - 54s 3ms/step - loss: 0.0158 - acc: 0.9944 - val_loss: 0.3265 - val_acc: 0.9381\n",
      "\n",
      "Epoch 00076: val_loss did not improve from 0.15718\n",
      "Epoch 77/100\n",
      "18706/18706 [==============================] - 54s 3ms/step - loss: 0.0150 - acc: 0.9946 - val_loss: 0.3255 - val_acc: 0.9387ss: 0.0151 - acc: \n",
      "\n",
      "Epoch 00077: val_loss did not improve from 0.15718\n",
      "Epoch 78/100\n",
      "18706/18706 [==============================] - 54s 3ms/step - loss: 0.0143 - acc: 0.9949 - val_loss: 0.3282 - val_acc: 0.9388\n",
      "\n",
      "Epoch 00078: val_loss did not improve from 0.15718\n",
      "Epoch 79/100\n",
      "18706/18706 [==============================] - 54s 3ms/step - loss: 0.0142 - acc: 0.9950 - val_loss: 0.3344 - val_acc: 0.9391\n",
      "\n",
      "Epoch 00079: val_loss did not improve from 0.15718\n",
      "Epoch 80/100\n",
      "18706/18706 [==============================] - 54s 3ms/step - loss: 0.0144 - acc: 0.9950 - val_loss: 0.3271 - val_acc: 0.9379\n",
      "\n",
      "Epoch 00080: val_loss did not improve from 0.15718\n",
      "Epoch 81/100\n",
      "18706/18706 [==============================] - 54s 3ms/step - loss: 0.0130 - acc: 0.9955 - val_loss: 0.3383 - val_acc: 0.9386\n",
      "\n",
      "Epoch 00081: val_loss did not improve from 0.15718\n",
      "Epoch 82/100\n"
     ]
    },
    {
     "name": "stdout",
     "output_type": "stream",
     "text": [
      "18706/18706 [==============================] - 54s 3ms/step - loss: 0.0131 - acc: 0.9954 - val_loss: 0.3374 - val_acc: 0.9382\n",
      "\n",
      "Epoch 00082: val_loss did not improve from 0.15718\n",
      "Epoch 83/100\n",
      "18706/18706 [==============================] - 54s 3ms/step - loss: 0.0127 - acc: 0.9955 - val_loss: 0.3496 - val_acc: 0.9376\n",
      "\n",
      "Epoch 00083: val_loss did not improve from 0.15718\n",
      "Epoch 84/100\n",
      "18706/18706 [==============================] - 54s 3ms/step - loss: 0.0127 - acc: 0.9955 - val_loss: 0.3281 - val_acc: 0.9375\n",
      "\n",
      "Epoch 00084: val_loss did not improve from 0.15718\n",
      "Epoch 85/100\n",
      "18706/18706 [==============================] - 54s 3ms/step - loss: 0.0119 - acc: 0.9959 - val_loss: 0.3508 - val_acc: 0.9374\n",
      "\n",
      "Epoch 00085: val_loss did not improve from 0.15718\n",
      "Epoch 86/100\n",
      "18706/18706 [==============================] - 54s 3ms/step - loss: 0.0115 - acc: 0.9960 - val_loss: 0.3413 - val_acc: 0.9375\n",
      "\n",
      "Epoch 00086: val_loss did not improve from 0.15718\n",
      "Epoch 87/100\n",
      "18706/18706 [==============================] - 54s 3ms/step - loss: 0.0118 - acc: 0.9960 - val_loss: 0.3316 - val_acc: 0.9390\n",
      "\n",
      "Epoch 00087: val_loss did not improve from 0.15718\n",
      "Epoch 88/100\n",
      "18706/18706 [==============================] - 54s 3ms/step - loss: 0.0112 - acc: 0.9960 - val_loss: 0.3437 - val_acc: 0.9393\n",
      "\n",
      "Epoch 00088: val_loss did not improve from 0.15718\n",
      "Epoch 89/100\n",
      "18706/18706 [==============================] - 54s 3ms/step - loss: 0.0115 - acc: 0.9960 - val_loss: 0.3437 - val_acc: 0.9385\n",
      "\n",
      "Epoch 00089: val_loss did not improve from 0.15718\n",
      "Epoch 90/100\n",
      "18706/18706 [==============================] - 54s 3ms/step - loss: 0.0108 - acc: 0.9963 - val_loss: 0.3384 - val_acc: 0.9383\n",
      "\n",
      "Epoch 00090: val_loss did not improve from 0.15718\n",
      "Epoch 91/100\n",
      "18706/18706 [==============================] - 54s 3ms/step - loss: 0.0101 - acc: 0.9964 - val_loss: 0.3577 - val_acc: 0.9380\n",
      "\n",
      "Epoch 00091: val_loss did not improve from 0.15718\n",
      "Epoch 92/100\n",
      "18706/18706 [==============================] - 54s 3ms/step - loss: 0.0101 - acc: 0.9965 - val_loss: 0.3463 - val_acc: 0.9379\n",
      "\n",
      "Epoch 00092: val_loss did not improve from 0.15718\n",
      "Epoch 93/100\n",
      "18706/18706 [==============================] - 54s 3ms/step - loss: 0.0097 - acc: 0.9967 - val_loss: 0.3481 - val_acc: 0.9389\n",
      "\n",
      "Epoch 00093: val_loss did not improve from 0.15718\n",
      "Epoch 94/100\n",
      "18706/18706 [==============================] - 54s 3ms/step - loss: 0.0098 - acc: 0.9966 - val_loss: 0.3368 - val_acc: 0.9388\n",
      "\n",
      "Epoch 00094: val_loss did not improve from 0.15718\n",
      "Epoch 95/100\n",
      "18706/18706 [==============================] - 54s 3ms/step - loss: 0.0096 - acc: 0.9966 - val_loss: 0.3417 - val_acc: 0.9385\n",
      "\n",
      "Epoch 00095: val_loss did not improve from 0.15718\n",
      "Epoch 96/100\n",
      "18706/18706 [==============================] - 54s 3ms/step - loss: 0.0092 - acc: 0.9968 - val_loss: 0.3513 - val_acc: 0.9398\n",
      "\n",
      "Epoch 00096: val_loss did not improve from 0.15718\n",
      "Epoch 97/100\n",
      "18706/18706 [==============================] - 54s 3ms/step - loss: 0.0092 - acc: 0.9969 - val_loss: 0.3534 - val_acc: 0.9387\n",
      "\n",
      "Epoch 00097: val_loss did not improve from 0.15718\n",
      "Epoch 98/100\n",
      "18706/18706 [==============================] - 54s 3ms/step - loss: 0.0095 - acc: 0.9967 - val_loss: 0.3358 - val_acc: 0.9386\n",
      "\n",
      "Epoch 00098: val_loss did not improve from 0.15718\n",
      "Epoch 99/100\n",
      "18706/18706 [==============================] - 54s 3ms/step - loss: 0.0086 - acc: 0.9971 - val_loss: 0.3451 - val_acc: 0.9374\n",
      "\n",
      "Epoch 00099: val_loss did not improve from 0.15718\n",
      "Epoch 100/100\n",
      "18706/18706 [==============================] - 54s 3ms/step - loss: 0.0086 - acc: 0.9970 - val_loss: 0.3428 - val_acc: 0.9384\n",
      "\n",
      "Epoch 00100: val_loss did not improve from 0.15718\n"
     ]
    },
    {
     "data": {
      "text/plain": [
       "<keras.callbacks.History at 0x7fb9c49668d0>"
      ]
     },
     "execution_count": 8,
     "metadata": {},
     "output_type": "execute_result"
    }
   ],
   "source": [
    "model.fit(x_train, y_train, batch_size=36, epochs=100, validation_data=[x_val, y_val], shuffle=True, callbacks = [checkpointer])"
   ]
  },
  {
   "cell_type": "markdown",
   "metadata": {},
   "source": [
    "(6) Test"
   ]
  },
  {
   "cell_type": "code",
   "execution_count": 9,
   "metadata": {},
   "outputs": [],
   "source": [
    "def make_patch_data(wav, sr, i):\n",
    "    patch_data = wav[i*sr:(i+6)*sr]\n",
    "    patch_data = np.expand_dims(patch_data, axis=1)\n",
    "    return patch_data\n",
    "\n",
    "def make_patch_by_filename(filename):\n",
    "    wav, sr = librosa.load(filename, sr=16000)\n",
    "    patch_range = 24\n",
    "    patch_list = [make_patch_data(wav, sr, i) for i in range(patch_range)]\n",
    "    return np.asarray([patch_list])\n",
    "\n",
    "def load_test_wavs(filenames):\n",
    "    patch_arr = np.asarray([make_patch_by_filename(filename) for filename in tqdm(filenames)])\n",
    "    result_arr = patch_arr.reshape(-1, *patch_arr.shape[-2:])\n",
    "    return result_arr\n",
    "#    return np.concatenate(patch_list, axis=None)\n",
    "\n",
    "def make_test_data(filenames, y_dict):\n",
    "    x_test = load_test_wavs(filenames)\n",
    "    repeat_size = x_test.shape[0] / len(filenames)\n",
    "    y_test = np.repeat(make_y_by_filenames(filenames, y_dict), repeat_size, axis=0)\n",
    "    return x_test, y_test"
   ]
  },
  {
   "cell_type": "code",
   "execution_count": 10,
   "metadata": {},
   "outputs": [
    {
     "name": "stdout",
     "output_type": "stream",
     "text": [
      "Make test data.......\n"
     ]
    },
    {
     "data": {
      "application/vnd.jupyter.widget-view+json": {
       "model_id": "f6e30f8406384eb5baff8b5738b15c43",
       "version_major": 2,
       "version_minor": 0
      },
      "text/plain": [
       "HBox(children=(IntProgress(value=0, max=500), HTML(value='')))"
      ]
     },
     "metadata": {},
     "output_type": "display_data"
    },
    {
     "name": "stdout",
     "output_type": "stream",
     "text": [
      "\n",
      "(12000, 96000, 1) (12000, 50)\n"
     ]
    }
   ],
   "source": [
    "print('Make test data.......')\n",
    "x_test_wav_filenames = [test_dir+filename for filename in os.listdir(test_dir)\n",
    "                            if filename.endswith('.wav')]\n",
    "x_test_wav_filenames = random.sample(x_test_wav_filenames, 500)\n",
    "x_test, y_test = make_test_data(x_test_wav_filenames, y_dict)\n",
    "\n",
    "print(x_test.shape, y_test.shape)"
   ]
  },
  {
   "cell_type": "code",
   "execution_count": 11,
   "metadata": {
    "scrolled": false
   },
   "outputs": [],
   "source": [
    "model = load_model(model_path+'28-0.1572.hdf5',custom_objects={'<lambda>': ParametricSoftplus(0.2, 0.5)})"
   ]
  },
  {
   "cell_type": "code",
   "execution_count": 12,
   "metadata": {
    "colab": {},
    "colab_type": "code",
    "id": "DefsBoWAFKdi",
    "scrolled": true
   },
   "outputs": [
    {
     "name": "stdout",
     "output_type": "stream",
     "text": [
      "12000/12000 [==============================] - 11s 932us/step\n",
      "Loss: 0.15847472915053368 Accuracy: 0.9489050016403199\n"
     ]
    }
   ],
   "source": [
    "[loss, accuracy] = model.evaluate(x_test, y_test)\n",
    "print('Loss:', loss, 'Accuracy:', accuracy)"
   ]
  },
  {
   "cell_type": "code",
   "execution_count": 13,
   "metadata": {},
   "outputs": [],
   "source": [
    "def sort_list(list1, list2): \n",
    "    pairs = zip(list2, list1)\n",
    "    result = [(x, y) for y, x in sorted(pairs, reverse=True)]\n",
    "    x_list = [x for x, _ in result]\n",
    "    y_list = [y for _, y in result]\n",
    "\n",
    "    return x_list, y_list"
   ]
  },
  {
   "cell_type": "code",
   "execution_count": 14,
   "metadata": {},
   "outputs": [
    {
     "name": "stdout",
     "output_type": "stream",
     "text": [
      "cello : 0.9958333333333333\n",
      "harp : 0.988\n",
      "country : 0.988\n",
      "classic : 0.988\n",
      "voice : 0.984\n",
      "female voice : 0.98\n",
      "solo : 0.978\n",
      "no voice : 0.976\n",
      "male voice : 0.976\n",
      "man : 0.9739166666666667\n",
      "harpsichord : 0.9738333333333333\n",
      "violin : 0.97325\n",
      "weird : 0.972\n",
      "new age : 0.97\n",
      "beats : 0.96975\n",
      "female vocal : 0.968\n",
      "flute : 0.9664166666666667\n",
      "indian : 0.966\n",
      "metal : 0.9649166666666666\n",
      "sitar : 0.9648333333333333\n",
      "dance : 0.9641666666666666\n",
      "choir : 0.9641666666666666\n",
      "choral : 0.9638333333333333\n",
      "male vocal : 0.9618333333333333\n",
      "soft : 0.958\n",
      "no vocals : 0.958\n",
      "no vocal : 0.956\n",
      "male : 0.95275\n",
      "quiet : 0.952\n",
      "woman : 0.948\n",
      "pop : 0.948\n",
      "strings : 0.9478333333333333\n",
      "opera : 0.9394166666666667\n",
      "singing : 0.938\n",
      "loud : 0.93775\n",
      "female : 0.9359166666666666\n",
      "rock : 0.9335833333333333\n",
      "synth : 0.932\n",
      "vocals : 0.93\n",
      "beat : 0.9278333333333333\n",
      "fast : 0.9143333333333333\n",
      "vocal : 0.914\n",
      "piano : 0.911\n",
      "drums : 0.9086666666666666\n",
      "techno : 0.9026666666666666\n",
      "electronic : 0.9010833333333333\n",
      "classical : 0.9005833333333333\n",
      "ambient : 0.8996666666666666\n",
      "slow : 0.8820833333333333\n",
      "guitar : 0.8453333333333334\n"
     ]
    }
   ],
   "source": [
    "pred = model.predict(x_test)\n",
    "accu_table = (pred > 0.5) == y_test\n",
    "accu_arr = accu_table.sum(axis=0) / y_test.shape[0]\n",
    "\n",
    "tag_list, accu_list = sort_list(y_names, accu_arr)\n",
    "for tag, accu in zip(tag_list, accu_list):\n",
    "    print(tag, ':', accu)"
   ]
  },
  {
   "cell_type": "code",
   "execution_count": 15,
   "metadata": {},
   "outputs": [
    {
     "data": {
      "image/png": "[encoded data removed]",
      "text/plain": [
       "<Figure size 1080x432 with 1 Axes>"
      ]
     },
     "metadata": {},
     "output_type": "display_data"
    }
   ],
   "source": [
    "plt.figure(figsize = (15, 6))\n",
    "x = np.arange(len(accu_list))\n",
    "plt.bar(x, accu_list)\n",
    "plt.xticks(x, tag_list, rotation='vertical')\n",
    "plt.xlabel('Tag') # , fontsize=18)\n",
    "plt.ylabel('AUC') # , fontsize=16)\n",
    "\n",
    "plt.show()"
   ]
  },
  {
   "cell_type": "code",
   "execution_count": 16,
   "metadata": {
    "scrolled": true
   },
   "outputs": [
    {
     "name": "stdout",
     "output_type": "stream",
     "text": [
      "rock : 0.7137292890501068\n",
      "techno : 0.3844716922129295\n",
      "choir : 0.28306567473582306\n",
      "choral : 0.15258780101915417\n",
      "guitar : 0.1491639065584629\n",
      "beat : 0.14205272168490826\n",
      "fast : 0.11639155151393937\n",
      "metal : 0.11277793647882636\n",
      "classical : 0.10341338775621474\n",
      "opera : 0.10040830939203071\n",
      "loud : 0.08364302200903186\n",
      "flute : 0.06737639314883205\n",
      "dance : 0.06355310544889495\n",
      "harpsichord : 0.06269382797171767\n",
      "piano : 0.06024797703873937\n",
      "ambient : 0.036078680767535176\n",
      "drums : 0.031376237938513754\n",
      "male : 0.019140233356065836\n",
      "sitar : 0.013986402014301404\n",
      "indian : 0.00943492229277628\n",
      "beats : 0.006208658129888053\n",
      "violin : 0.005396478455258042\n",
      "female : 0.00477129303089517\n",
      "electronic : 0.0037449438172712447\n",
      "quiet : 0.0030656935808953253\n",
      "slow : 0.0014332403820726332\n",
      "woman : 0.0\n",
      "weird : 0.0\n",
      "voice : 0.0\n",
      "vocals : 0.0\n",
      "vocal : 0.0\n",
      "synth : 0.0\n",
      "strings : 0.0\n",
      "solo : 0.0\n",
      "soft : 0.0\n",
      "singing : 0.0\n",
      "pop : 0.0\n",
      "no voice : 0.0\n",
      "no vocals : 0.0\n",
      "no vocal : 0.0\n",
      "new age : 0.0\n",
      "man : 0.0\n",
      "male voice : 0.0\n",
      "male vocal : 0.0\n",
      "harp : 0.0\n",
      "female voice : 0.0\n",
      "female vocal : 0.0\n",
      "country : 0.0\n",
      "classic : 0.0\n",
      "cello : 0.0\n"
     ]
    }
   ],
   "source": [
    "pred = model.predict(x_test)\n",
    "true_positive = (pred > 0.5) & y_test\n",
    "precision_arr = true_positive.sum(axis=0) / (pred.sum(axis=0) + keras.backend.epsilon())\n",
    "\n",
    "tag_list, precision_list = sort_list(y_names, precision_arr)\n",
    "for tag, accu in zip(tag_list, precision_list):\n",
    "    print(tag, ':', accu)"
   ]
  },
  {
   "cell_type": "code",
   "execution_count": 17,
   "metadata": {},
   "outputs": [
    {
     "data": {
      "image/png": "[encoded data removed]",
      "text/plain": [
       "<Figure size 1080x432 with 1 Axes>"
      ]
     },
     "metadata": {},
     "output_type": "display_data"
    }
   ],
   "source": [
    "plt.figure(figsize = (15, 6))\n",
    "x = np.arange(len(precision_list))\n",
    "plt.bar(x, precision_list)\n",
    "plt.xticks(x, tag_list, rotation='vertical')\n",
    "plt.xlabel('Tag') # , fontsize=18)\n",
    "plt.ylabel('AUC') # , fontsize=16)\n",
    "\n",
    "plt.show()"
   ]
  },
  {
   "cell_type": "code",
   "execution_count": null,
   "metadata": {},
   "outputs": [],
   "source": []
  }
 ],
 "metadata": {
  "accelerator": "GPU",
  "colab": {
   "collapsed_sections": [],
   "name": "brains_on_beats_model_test",
   "provenance": [],
   "version": "0.3.2"
  },
  "kernelspec": {
   "display_name": "Python 3",
   "language": "python",
   "name": "python3"
  },
  "language_info": {
   "codemirror_mode": {
    "name": "ipython",
    "version": 3
   },
   "file_extension": ".py",
   "mimetype": "text/x-python",
   "name": "python",
   "nbconvert_exporter": "python",
   "pygments_lexer": "ipython3",
   "version": "3.5.2"
  }
 },
 "nbformat": 4,
 "nbformat_minor": 1
}
